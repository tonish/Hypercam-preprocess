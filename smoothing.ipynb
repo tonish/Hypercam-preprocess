{
 "cells": [
  {
   "cell_type": "code",
   "execution_count": 1,
   "metadata": {
    "collapsed": false
   },
   "outputs": [],
   "source": [
    "import spectral \n",
    "import numpy\n",
    "from scipy.signal import savgol_filter\n",
    "# %matplotlib inline\n",
    "import matplotlib.pyplot as plt\n",
    "import matplotlib\n",
    "# matplotlib.rcParams['interactive'] == True\n",
    "import glob\n",
    "import itertools"
   ]
  },
  {
   "cell_type": "code",
   "execution_count": 3,
   "metadata": {
    "collapsed": false
   },
   "outputs": [
    {
     "name": "stdout",
     "output_type": "stream",
     "text": [
      "Saving C:\\Users\\tonish\\Documents\\telops hypercam 3_8_2016\\sand\\apparent emissivity\\radiance_apparent_emissivityMAsmooth.img\n"
     ]
    }
   ],
   "source": [
    "files_in = glob.glob(r'D:\\OneDrive\\Documents\\telops hypercam 3_8_2016\\sand\\apparent emissivity\\*.hdr')\n",
    "\n",
    "weights = numpy.repeat(1.0, 3)/3\n",
    "for file in files_in:\n",
    "    emis_img = spectral.envi.open(file)\n",
    "    emis_img1 = emis_img.load()\n",
    "    new_emis = numpy.zeros_like(emis_img1)\n",
    "    new_emis.shape\n",
    "    for x, y in numpy.ndindex((emis_img.shape[0],emis_img.shape[1])):\n",
    "        new_emis[x,y] = numpy.convolve(emis_img1[x,y], weights, 'same')\n",
    "    for x, y in numpy.ndindex((emis_img.shape[0],emis_img.shape[1])):\n",
    "        new_emis[x,y] = numpy.convolve(emis_img1[x,y], weights, 'same')\n",
    "    save_name = file[:-4] + 'MAsmooth.hdr'\n",
    "    hdr = spectral.envi.read_envi_header(file)\n",
    "    spectral.envi.save_image(save_name, new_emis, metadata = hdr)"
   ]
  },
  {
   "cell_type": "code",
   "execution_count": 92,
   "metadata": {
    "collapsed": false
   },
   "outputs": [],
   "source": [
    "weights = numpy.repeat(1.0, 3)/3\n",
    "for i in range(emis_img.shape[0]):\n",
    "    for j in range(emis_img.shape[1]):\n",
    "        new_emis[i,j] = numpy.convolve(emis_img[i,j], weights, 'same')"
   ]
  },
  {
   "cell_type": "code",
   "execution_count": null,
   "metadata": {
    "collapsed": true
   },
   "outputs": [],
   "source": [
    "for i in range(emis_img.shape[0]):\n",
    "    for j in range(emis_img.shape[1]):\n",
    "        new_emis[i,j,:] = savgol_filter(emis_img1[i,j,:], 3,2)"
   ]
  },
  {
   "cell_type": "code",
   "execution_count": 4,
   "metadata": {
    "collapsed": true
   },
   "outputs": [],
   "source": [
    "files_in = glob.glob(r'D:\\OneDrive\\Documents\\telops hypercam 3_8_2016\\apparent emissivity\\*.hdr')"
   ]
  },
  {
   "cell_type": "code",
   "execution_count": 5,
   "metadata": {
    "collapsed": false
   },
   "outputs": [
    {
     "data": {
      "text/plain": [
       "['D:\\\\OneDrive\\\\Documents\\\\telops hypercam 3_8_2016\\\\apparent emissivity\\\\first_apparent_emissivity.hdr',\n",
       " 'D:\\\\OneDrive\\\\Documents\\\\telops hypercam 3_8_2016\\\\apparent emissivity\\\\first_apparent_emissivityMAsmooth.hdr',\n",
       " 'D:\\\\OneDrive\\\\Documents\\\\telops hypercam 3_8_2016\\\\apparent emissivity\\\\fith_apparent_emissivity.hdr',\n",
       " 'D:\\\\OneDrive\\\\Documents\\\\telops hypercam 3_8_2016\\\\apparent emissivity\\\\fith_apparent_emissivityMAsmooth.hdr',\n",
       " 'D:\\\\OneDrive\\\\Documents\\\\telops hypercam 3_8_2016\\\\apparent emissivity\\\\fourth_apparent_emissivity.hdr',\n",
       " 'D:\\\\OneDrive\\\\Documents\\\\telops hypercam 3_8_2016\\\\apparent emissivity\\\\fourth_apparent_emissivityMAsmooth.hdr',\n",
       " 'D:\\\\OneDrive\\\\Documents\\\\telops hypercam 3_8_2016\\\\apparent emissivity\\\\second_apparent_emissivity.hdr',\n",
       " 'D:\\\\OneDrive\\\\Documents\\\\telops hypercam 3_8_2016\\\\apparent emissivity\\\\second_apparent_emissivityMAsmooth.hdr',\n",
       " 'D:\\\\OneDrive\\\\Documents\\\\telops hypercam 3_8_2016\\\\apparent emissivity\\\\sixth_apparent_emissivity.hdr',\n",
       " 'D:\\\\OneDrive\\\\Documents\\\\telops hypercam 3_8_2016\\\\apparent emissivity\\\\sixth_apparent_emissivityMAsmooth.hdr',\n",
       " 'D:\\\\OneDrive\\\\Documents\\\\telops hypercam 3_8_2016\\\\apparent emissivity\\\\third_apparent_emissivity.hdr',\n",
       " 'D:\\\\OneDrive\\\\Documents\\\\telops hypercam 3_8_2016\\\\apparent emissivity\\\\third_apparent_emissivityMAsmooth.hdr']"
      ]
     },
     "execution_count": 5,
     "metadata": {},
     "output_type": "execute_result"
    }
   ],
   "source": [
    "files_in"
   ]
  },
  {
   "cell_type": "code",
   "execution_count": null,
   "metadata": {
    "collapsed": true
   },
   "outputs": [],
   "source": []
  }
 ],
 "metadata": {
  "anaconda-cloud": {},
  "kernelspec": {
   "display_name": "Python [Root]",
   "language": "python",
   "name": "Python [Root]"
  },
  "language_info": {
   "codemirror_mode": {
    "name": "ipython",
    "version": 2
   },
   "file_extension": ".py",
   "mimetype": "text/x-python",
   "name": "python",
   "nbconvert_exporter": "python",
   "pygments_lexer": "ipython2",
   "version": "2.7.12"
  }
 },
 "nbformat": 4,
 "nbformat_minor": 0
}
