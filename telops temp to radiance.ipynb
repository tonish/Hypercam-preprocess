{
 "cells": [
  {
   "cell_type": "code",
   "execution_count": 1,
   "metadata": {
    "collapsed": false
   },
   "outputs": [],
   "source": [
    "import scipy.io as sio\n",
    "import matplotlib.pyplot as plt\n",
    "import glob\n",
    "import numpy as np\n",
    "import spectral\n",
    "import scipy.constants as const\n",
    "\n",
    "# wv = np.loadtxt(r'C:\\Users\\tonish\\Documents\\WAVELENGTHS')\n",
    "h = const.h\n",
    "c = const.c\n",
    "k = const.k\n",
    "# wv = wv * 1e-6\n",
    "\n",
    "files_in = glob.glob(r'C:\\Users\\tonish\\Documents\\telops hypercam 3_8_2016\\averages\\*.hdr')\n",
    "\n",
    "for file in files_in:\n",
    "    data = spectral.envi.open(file)\n",
    "    data1 = data.load()\n",
    "    wv = np.array(data.bands.centers)\n",
    "    wv = wv * 1e-6\n",
    "    new_array= np.zeros_like(data1)\n",
    "    for i in range(data1.shape[0]):\n",
    "        for j in range(data1.shape[1]):\n",
    "            numer = 2.*h*(c)**2 / (wv**5)\n",
    "            denom = np.exp(h*c/(k*data1[i,j]*wv))-1.\n",
    "            new_array[i,j] = numer/denom\n",
    "    meta = spectral.envi.read_envi_header(file)\n",
    "    spectral.envi.save_image(file[:-4] + '_radiance.hdr', new_array,metadata = meta, force = True)"
   ]
  },
  {
   "cell_type": "code",
   "execution_count": 1,
   "metadata": {
    "collapsed": false
   },
   "outputs": [],
   "source": [
    "import scipy.io as sio\n",
    "import matplotlib.pyplot as plt\n",
    "import glob\n",
    "import numpy as np\n",
    "import spectral\n",
    "import scipy.constants as const\n",
    "\n",
    "h = const.h\n",
    "c = const.c\n",
    "k = const.k\n",
    "\n",
    "\n"
   ]
  },
  {
   "cell_type": "code",
   "execution_count": 2,
   "metadata": {
    "collapsed": false
   },
   "outputs": [],
   "source": [
    "data = spectral.envi.open(r'C:\\Users\\tonish\\Documents\\telops hypercam 3_8_2016\\IIBR_Sand.hdr')\n",
    "wv = np.array(data.bands.centers)[::-1]\n",
    "wv1 = wv * 1e-6"
   ]
  },
  {
   "cell_type": "code",
   "execution_count": 91,
   "metadata": {
    "collapsed": false
   },
   "outputs": [
    {
     "data": {
      "text/plain": [
       "127"
      ]
     },
     "execution_count": 91,
     "metadata": {},
     "output_type": "execute_result"
    }
   ],
   "source": []
  },
  {
   "cell_type": "code",
   "execution_count": 3,
   "metadata": {
    "collapsed": false
   },
   "outputs": [],
   "source": [
    "data.spectra = data.spectra[0][::-1]\n",
    "numer = 2.*h*(c)**2 / (wv1**5)\n",
    "denom = np.exp(h*c/(k*data.spectra*wv1))-1.\n",
    "new_array = numer/denom"
   ]
  },
  {
   "cell_type": "code",
   "execution_count": 14,
   "metadata": {
    "collapsed": false
   },
   "outputs": [
    {
     "name": "stdout",
     "output_type": "stream",
     "text": [
      "Saving C:\\Users\\tonish\\Documents\\telops hypercam 3_8_2016\\IIBR_Sand_radiance.img\n"
     ]
    }
   ],
   "source": [
    "meta = spectral.envi.read_envi_header(r'C:\\Users\\tonish\\Documents\\telops hypercam 3_8_2016\\IIBR_Sand.hdr')\n",
    "meta['wavelength'] = wv.tolist() \n",
    "meta['fwhm'] = [0.02018 for i in range(len(wv))]\n",
    "spectral.envi.save_image(r'C:\\Users\\tonish\\Documents\\telops hypercam 3_8_2016\\IIBR_Sand'+ '_radiance.hdr', new_array.reshape(1,1,127),metadata = meta ,force = True)"
   ]
  },
  {
   "cell_type": "code",
   "execution_count": 16,
   "metadata": {
    "collapsed": false
   },
   "outputs": [
    {
     "data": {
      "text/plain": [
       "127"
      ]
     },
     "execution_count": 16,
     "metadata": {},
     "output_type": "execute_result"
    }
   ],
   "source": [
    "len(meta['wavelength'])"
   ]
  },
  {
   "cell_type": "code",
   "execution_count": 11,
   "metadata": {
    "collapsed": false
   },
   "outputs": [
    {
     "ename": "AttributeError",
     "evalue": "SpectralLibrary instance has no attribute 'shape'",
     "output_type": "error",
     "traceback": [
      "\u001b[1;31m---------------------------------------------------------------------------\u001b[0m",
      "\u001b[1;31mAttributeError\u001b[0m                            Traceback (most recent call last)",
      "\u001b[1;32m<ipython-input-11-cd49bfd6c366>\u001b[0m in \u001b[0;36m<module>\u001b[1;34m()\u001b[0m\n\u001b[0;32m      1\u001b[0m \u001b[0mnew_array\u001b[0m\u001b[1;33m=\u001b[0m \u001b[0mnp\u001b[0m\u001b[1;33m.\u001b[0m\u001b[0mzeros_like\u001b[0m\u001b[1;33m(\u001b[0m\u001b[0mdata\u001b[0m\u001b[1;33m)\u001b[0m\u001b[1;33m\u001b[0m\u001b[0m\n\u001b[1;32m----> 2\u001b[1;33m \u001b[1;32mfor\u001b[0m \u001b[0mx\u001b[0m\u001b[1;33m,\u001b[0m \u001b[0my\u001b[0m \u001b[1;32min\u001b[0m \u001b[0mnp\u001b[0m\u001b[1;33m.\u001b[0m\u001b[0mndindex\u001b[0m\u001b[1;33m(\u001b[0m\u001b[1;33m(\u001b[0m\u001b[0mdata\u001b[0m\u001b[1;33m.\u001b[0m\u001b[0mshape\u001b[0m\u001b[1;33m[\u001b[0m\u001b[1;36m0\u001b[0m\u001b[1;33m]\u001b[0m\u001b[1;33m,\u001b[0m\u001b[0mdata\u001b[0m\u001b[1;33m.\u001b[0m\u001b[0mshape\u001b[0m\u001b[1;33m[\u001b[0m\u001b[1;36m1\u001b[0m\u001b[1;33m]\u001b[0m\u001b[1;33m)\u001b[0m\u001b[1;33m)\u001b[0m\u001b[1;33m:\u001b[0m\u001b[1;33m\u001b[0m\u001b[0m\n\u001b[0m\u001b[0;32m      3\u001b[0m         \u001b[0mnumer\u001b[0m \u001b[1;33m=\u001b[0m \u001b[1;36m2.\u001b[0m\u001b[1;33m*\u001b[0m\u001b[0mh\u001b[0m\u001b[1;33m*\u001b[0m\u001b[1;33m(\u001b[0m\u001b[0mc\u001b[0m\u001b[1;33m)\u001b[0m\u001b[1;33m**\u001b[0m\u001b[1;36m2\u001b[0m \u001b[1;33m/\u001b[0m \u001b[1;33m(\u001b[0m\u001b[0mwv\u001b[0m\u001b[1;33m**\u001b[0m\u001b[1;36m5\u001b[0m\u001b[1;33m)\u001b[0m\u001b[1;33m\u001b[0m\u001b[0m\n\u001b[0;32m      4\u001b[0m         \u001b[0mdenom\u001b[0m \u001b[1;33m=\u001b[0m \u001b[0mnp\u001b[0m\u001b[1;33m.\u001b[0m\u001b[0mexp\u001b[0m\u001b[1;33m(\u001b[0m\u001b[0mh\u001b[0m\u001b[1;33m*\u001b[0m\u001b[0mc\u001b[0m\u001b[1;33m/\u001b[0m\u001b[1;33m(\u001b[0m\u001b[0mk\u001b[0m\u001b[1;33m*\u001b[0m\u001b[0mdata\u001b[0m\u001b[1;33m[\u001b[0m\u001b[0mx\u001b[0m\u001b[1;33m,\u001b[0m\u001b[0my\u001b[0m\u001b[1;33m]\u001b[0m\u001b[1;33m*\u001b[0m\u001b[0mwv\u001b[0m\u001b[1;33m)\u001b[0m\u001b[1;33m)\u001b[0m\u001b[1;33m-\u001b[0m\u001b[1;36m1.\u001b[0m\u001b[1;33m\u001b[0m\u001b[0m\n\u001b[0;32m      5\u001b[0m         \u001b[0mnew_array\u001b[0m\u001b[1;33m[\u001b[0m\u001b[0mx\u001b[0m\u001b[1;33m,\u001b[0m\u001b[0my\u001b[0m\u001b[1;33m]\u001b[0m \u001b[1;33m=\u001b[0m \u001b[0mnumer\u001b[0m\u001b[1;33m/\u001b[0m\u001b[0mdenom\u001b[0m\u001b[1;33m\u001b[0m\u001b[0m\n",
      "\u001b[1;31mAttributeError\u001b[0m: SpectralLibrary instance has no attribute 'shape'"
     ]
    }
   ],
   "source": [
    "new_array= np.zeros_like(data)\n",
    "for x, y in np.ndindex((data.shape[0],data.shape[1])):\n",
    "        \n",
    "        new_array[x,y] = numer/denom\n",
    "meta = spectral.envi.read_envi_header(r'C:\\Users\\tonish\\Documents\\telops hypercam 3_8_2016\\IIBR_Sand.hdr')\n",
    "spectral.envi.s(file[:-4] + '_radiance.hdr', new_array,metadata = meta, force = True)\n"
   ]
  },
  {
   "cell_type": "code",
   "execution_count": 15,
   "metadata": {
    "collapsed": false
   },
   "outputs": [],
   "source": [
    "wv2= np.loadtxt(r'C:\\Users\\tonish\\Documents\\WAVELENGTHS')\n"
   ]
  },
  {
   "cell_type": "code",
   "execution_count": 18,
   "metadata": {
    "collapsed": false
   },
   "outputs": [
    {
     "data": {
      "text/plain": [
       "array([ 11.6003924 ,  11.55694523,  11.5138223 ,  11.47101999,\n",
       "        11.42853473,  11.38636302,  11.34450139,  11.30294644,\n",
       "        11.26169481,  11.22074319,  11.18008833,  11.139727  ,\n",
       "        11.09965604,  11.05987232,  11.02037278,  10.98115437,\n",
       "        10.94221411,  10.90354904,  10.86515626,  10.82703291,\n",
       "        10.78917615,  10.7515832 ,  10.71425131,  10.67717778,\n",
       "        10.64035992,  10.60379511,  10.56748075,  10.53141426,\n",
       "        10.49559312,  10.46001484,  10.42467695,  10.38957703,\n",
       "        10.35471268,  10.32008153,  10.28568126,  10.25150956,\n",
       "        10.21756417,  10.18384283,  10.15034335,  10.11706354,\n",
       "        10.08400124,  10.05115433,  10.01852071,   9.98609831,\n",
       "         9.95388509,   9.92187903,   9.89007814,   9.85848044,\n",
       "         9.82708401,   9.79588692,   9.76488727,   9.73408321,\n",
       "         9.70347289,   9.67305448,   9.64282618,   9.61278623,\n",
       "         9.58293285,   9.55326433,   9.52377895,   9.49447501,\n",
       "         9.46535086,   9.43640483,   9.4076353 ,   9.37904067,\n",
       "         9.35061933,   9.32236972,   9.2942903 ,   9.26637952,\n",
       "         9.23863587,   9.21105785,   9.18364399,   9.15639282,\n",
       "         9.1293029 ,   9.1023728 ,   9.07560111,   9.04898645,\n",
       "         9.02252742,   8.99622268,   8.97007087,   8.94407066,\n",
       "         8.91822075,   8.89251982,   8.86696661,   8.84155983,\n",
       "         8.81629823,   8.79118057,   8.76620562,   8.74137218,\n",
       "         8.71667904,   8.69212501,   8.66770893,   8.64342963,\n",
       "         8.61928598,   8.59527682,   8.57140105,   8.54765756,\n",
       "         8.52404525,   8.50056303,   8.47720983,   8.4539846 ,\n",
       "         8.43088628,   8.40791384,   8.38506625,   8.36234249,\n",
       "         8.33974157,   8.31726248,   8.29490425,   8.2726659 ,\n",
       "         8.25054647,   8.22854501,   8.20666058,   8.18489225,\n",
       "         8.1632391 ,   8.14170021,   8.12027468,   8.09896163,\n",
       "         8.07776016,   8.0566694 ,   8.03568849,   8.01481657,\n",
       "         7.9940528 ,   7.97339633,   7.95284634,   7.932402  ,\n",
       "         7.91206251,   7.89182706,   7.87169485,   7.85166509,\n",
       "         7.831737  ,   7.81190982,   7.79218278,   7.77255511,\n",
       "         7.75302608,   7.73359494,   7.71426095,   7.69502339,   7.67588154])"
      ]
     },
     "execution_count": 18,
     "metadata": {},
     "output_type": "execute_result"
    }
   ],
   "source": [
    "wv2"
   ]
  },
  {
   "cell_type": "code",
   "execution_count": null,
   "metadata": {
    "collapsed": true
   },
   "outputs": [],
   "source": []
  }
 ],
 "metadata": {
  "anaconda-cloud": {},
  "kernelspec": {
   "display_name": "Python [Root]",
   "language": "python",
   "name": "Python [Root]"
  },
  "language_info": {
   "codemirror_mode": {
    "name": "ipython",
    "version": 2
   },
   "file_extension": ".py",
   "mimetype": "text/x-python",
   "name": "python",
   "nbconvert_exporter": "python",
   "pygments_lexer": "ipython2",
   "version": "2.7.12"
  }
 },
 "nbformat": 4,
 "nbformat_minor": 0
}
