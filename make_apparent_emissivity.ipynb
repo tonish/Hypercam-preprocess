{
 "cells": [
  {
   "cell_type": "code",
   "execution_count": 1,
   "metadata": {
    "collapsed": true
   },
   "outputs": [],
   "source": [
    "import spectral\n",
    "import numpy\n",
    "import glob\n"
   ]
  },
  {
   "cell_type": "code",
   "execution_count": 3,
   "metadata": {
    "collapsed": false
   },
   "outputs": [],
   "source": [
    "files_in_rad = glob.glob(r'C:\\Users\\tonish\\Documents\\telops hypercam 3_8_2016\\sand\\radiance\\*.hdr')\n",
    "files_in_planck = glob.glob(r'C:\\Users\\tonish\\Documents\\telops hypercam 3_8_2016\\sand\\planck\\*.hdr')\n",
    "hdr = spectral.envi.read_envi_header(r'C:\\Users\\tonish\\Documents\\telops hypercam 3_8_2016\\sand\\radiance\\IIBR_Sand_radiance.hdr')\n",
    "hdr['wavelength'] = hdr['wavelength'][17:]\n",
    "hdr['fwhm'] = hdr['fwhm'][17:]"
   ]
  },
  {
   "cell_type": "code",
   "execution_count": 5,
   "metadata": {
    "collapsed": false
   },
   "outputs": [
    {
     "name": "stdout",
     "output_type": "stream",
     "text": [
      "Saving C:\\Users\\tonish\\Documents\\telops hypercam 3_8_2016\\apparent emissivity\\radiance_apparent_emissivity.img\n"
     ]
    }
   ],
   "source": [
    "for i in range(len(files_in_rad)):\n",
    "    rad_image = spectral.envi.open(files_in_rad[i])\n",
    "    planck_image = spectral.envi.open(files_in_planck[i])\n",
    "    rad_image_load = rad_image.load()\n",
    "    planck_image_load = planck_image.load()\n",
    "    rad_image_array = rad_image_load.asarray()\n",
    "    planck_image_array = planck_image_load.asarray()\n",
    "    apparent_emis = numpy.divide(rad_image_array, planck_image_array)\n",
    "    a = str(files_in_rad[i].split('_',2)).split('\\\\')[12].split('_', 1)[0]\n",
    "    save_name = 'C:\\\\Users\\\\tonish\\\\Documents\\\\telops hypercam 3_8_2016\\\\apparent emissivity\\\\' + a + '_apparent_emissivity.hdr'\n",
    "    spectral.envi.save_image(save_name, apparent_emis, metadata = hdr, force = True)"
   ]
  },
  {
   "cell_type": "code",
   "execution_count": 72,
   "metadata": {
    "collapsed": false
   },
   "outputs": [],
   "source": [
    " rad_image = spectral.envi.open(files_in_rad[0])\n"
   ]
  },
  {
   "cell_type": "code",
   "execution_count": 3,
   "metadata": {
    "collapsed": false
   },
   "outputs": [],
   "source": [
    "# rad_image = spectral.envi.open(r'C:\\Users\\tonish\\Documents\\try2\\fourth_reversed_all_radiance.hdr')\n",
    "# planck_image = spectral.envi.open(r'C:\\Users\\tonish\\Documents\\try2\\fourth_reversed_all_radiance_planck.hdr')\n",
    "# rad_image_array = rad_image.asarray()\n",
    "# planck_image_array = planck_image.asarray()"
   ]
  },
  {
   "cell_type": "code",
   "execution_count": 52,
   "metadata": {
    "collapsed": false
   },
   "outputs": [
    {
     "data": {
      "text/plain": [
       "'fith'"
      ]
     },
     "execution_count": 52,
     "metadata": {},
     "output_type": "execute_result"
    }
   ],
   "source": [
    "str(files_in_rad[1].split('_',2)).split('\\\\')[12].split('_', 1)[0]"
   ]
  },
  {
   "cell_type": "code",
   "execution_count": 4,
   "metadata": {
    "collapsed": false
   },
   "outputs": [],
   "source": [
    "apparent_emis = numpy.divide(rad_image_array, planck_image_array)"
   ]
  },
  {
   "cell_type": "code",
   "execution_count": 5,
   "metadata": {
    "collapsed": false
   },
   "outputs": [
    {
     "data": {
      "text/plain": [
       "(256L, 320L, 137L)"
      ]
     },
     "execution_count": 5,
     "metadata": {},
     "output_type": "execute_result"
    }
   ],
   "source": [
    "apparent_emis.shape"
   ]
  },
  {
   "cell_type": "code",
   "execution_count": 6,
   "metadata": {
    "collapsed": false
   },
   "outputs": [],
   "source": [
    "hdr = spectral.envi.read_envi_header(r'C:\\Users\\tonish\\Documents\\try2\\fourth_reversed_all_radiance.hdr')"
   ]
  },
  {
   "cell_type": "code",
   "execution_count": 8,
   "metadata": {
    "collapsed": false
   },
   "outputs": [
    {
     "name": "stdout",
     "output_type": "stream",
     "text": [
      "Saving C:\\Users\\tonish\\Documents\\try2\\fourth_reversed_app_emissivity.img\n"
     ]
    }
   ],
   "source": [
    "spectral.envi.save_image(r'C:\\Users\\tonish\\Documents\\try2\\fourth_reversed_app_emissivity.hdr', apparent_emis, metadata = hdr, force = True)"
   ]
  },
  {
   "cell_type": "code",
   "execution_count": null,
   "metadata": {
    "collapsed": true
   },
   "outputs": [],
   "source": []
  }
 ],
 "metadata": {
  "anaconda-cloud": {},
  "kernelspec": {
   "display_name": "Python [Root]",
   "language": "python",
   "name": "Python [Root]"
  },
  "language_info": {
   "codemirror_mode": {
    "name": "ipython",
    "version": 2
   },
   "file_extension": ".py",
   "mimetype": "text/x-python",
   "name": "python",
   "nbconvert_exporter": "python",
   "pygments_lexer": "ipython2",
   "version": "2.7.12"
  }
 },
 "nbformat": 4,
 "nbformat_minor": 0
}
